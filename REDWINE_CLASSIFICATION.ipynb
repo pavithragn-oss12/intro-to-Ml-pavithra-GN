{
  "nbformat": 4,
  "nbformat_minor": 0,
  "metadata": {
    "colab": {
      "name": "REDWINE CLASSIFICATION ",
      "provenance": []
    },
    "kernelspec": {
      "name": "python3",
      "display_name": "Python 3"
    }
  },
  "cells": [
    {
      "cell_type": "code",
      "metadata": {
        "id": "dnLItYvosX4d",
        "colab_type": "code",
        "colab": {}
      },
      "source": [
        ""
      ],
      "execution_count": null,
      "outputs": []
    },
    {
      "cell_type": "code",
      "metadata": {
        "id": "bW9EwL2Isk4D",
        "colab_type": "code",
        "colab": {}
      },
      "source": [
        "import pandas as pd\n",
        "import numpy as np\n",
        "import matplotlib.pyplot as plt"
      ],
      "execution_count": 1,
      "outputs": []
    },
    {
      "cell_type": "code",
      "metadata": {
        "id": "KOfMN1eHsvoQ",
        "colab_type": "code",
        "colab": {}
      },
      "source": [
        "dataset = pd.read_csv('/content/winequality-red (2).csv')"
      ],
      "execution_count": 6,
      "outputs": []
    },
    {
      "cell_type": "code",
      "metadata": {
        "id": "k7YfCOSXtZXR",
        "colab_type": "code",
        "colab": {
          "base_uri": "https://localhost:8080/",
          "height": 336
        },
        "outputId": "144e7d5e-0c03-4c62-f80b-0c78b4d11257"
      },
      "source": [
        "dataset.info()"
      ],
      "execution_count": 7,
      "outputs": [
        {
          "output_type": "stream",
          "text": [
            "<class 'pandas.core.frame.DataFrame'>\n",
            "RangeIndex: 1599 entries, 0 to 1598\n",
            "Data columns (total 12 columns):\n",
            " #   Column                Non-Null Count  Dtype  \n",
            "---  ------                --------------  -----  \n",
            " 0   fixed acidity         1599 non-null   float64\n",
            " 1   volatile acidity      1599 non-null   float64\n",
            " 2   citric acid           1599 non-null   float64\n",
            " 3   residual sugar        1599 non-null   float64\n",
            " 4   chlorides             1599 non-null   float64\n",
            " 5   free sulfur dioxide   1599 non-null   float64\n",
            " 6   total sulfur dioxide  1599 non-null   float64\n",
            " 7   density               1599 non-null   float64\n",
            " 8   pH                    1599 non-null   float64\n",
            " 9   sulphates             1599 non-null   float64\n",
            " 10  alcohol               1599 non-null   float64\n",
            " 11  quality               1599 non-null   int64  \n",
            "dtypes: float64(11), int64(1)\n",
            "memory usage: 150.0 KB\n"
          ],
          "name": "stdout"
        }
      ]
    },
    {
      "cell_type": "code",
      "metadata": {
        "id": "HpcAlE85tyoQ",
        "colab_type": "code",
        "colab": {
          "base_uri": "https://localhost:8080/",
          "height": 34
        },
        "outputId": "1bdfb967-4a0a-474c-d6a1-b52a34d408af"
      },
      "source": [
        "dataset['quality'].unique()"
      ],
      "execution_count": 8,
      "outputs": [
        {
          "output_type": "execute_result",
          "data": {
            "text/plain": [
              "array([5, 6, 7, 4, 8, 3])"
            ]
          },
          "metadata": {
            "tags": []
          },
          "execution_count": 8
        }
      ]
    },
    {
      "cell_type": "code",
      "metadata": {
        "id": "mtPPpTmBt4WN",
        "colab_type": "code",
        "colab": {}
      },
      "source": [
        "X = dataset.iloc[: , 1:-1].values\n",
        "y = dataset.iloc[:, -1].values"
      ],
      "execution_count": 9,
      "outputs": []
    },
    {
      "cell_type": "code",
      "metadata": {
        "id": "r9hDpMqmt9ch",
        "colab_type": "code",
        "colab": {}
      },
      "source": [
        "from sklearn.model_selection import train_test_split"
      ],
      "execution_count": 10,
      "outputs": []
    },
    {
      "cell_type": "code",
      "metadata": {
        "id": "ZdFCW9wjuAzJ",
        "colab_type": "code",
        "colab": {}
      },
      "source": [
        "X_train, X_test, y_train, y_test = train_test_split(X ,y, test_size=0.20)"
      ],
      "execution_count": 11,
      "outputs": []
    },
    {
      "cell_type": "code",
      "metadata": {
        "id": "ZdY8KqjwuFn4",
        "colab_type": "code",
        "colab": {}
      },
      "source": [
        ""
      ],
      "execution_count": null,
      "outputs": []
    },
    {
      "cell_type": "code",
      "metadata": {
        "id": "T6iTmclGuJ2E",
        "colab_type": "code",
        "colab": {}
      },
      "source": [
        "from sklearn.preprocessing import StandardScaler"
      ],
      "execution_count": 12,
      "outputs": []
    },
    {
      "cell_type": "code",
      "metadata": {
        "id": "bjq-4C99uOU3",
        "colab_type": "code",
        "colab": {}
      },
      "source": [
        "sc = StandardScaler()"
      ],
      "execution_count": 13,
      "outputs": []
    },
    {
      "cell_type": "code",
      "metadata": {
        "id": "6S-gkpqGuSwZ",
        "colab_type": "code",
        "colab": {}
      },
      "source": [
        "X_train = sc.fit_transform(X_train)\n",
        "X_test = sc.transform(X_test)"
      ],
      "execution_count": 14,
      "outputs": []
    },
    {
      "cell_type": "code",
      "metadata": {
        "id": "a1ljd8ubuYnF",
        "colab_type": "code",
        "colab": {}
      },
      "source": [
        "from sklearn.linear_model import LogisticRegression\n",
        "from sklearn.neighbors import KNeighborsClassifier\n",
        "from sklearn.tree import DecisionTreeClassifier\n",
        "from sklearn.ensemble import RandomForestClassifier\n",
        "from sklearn.svm import SVC"
      ],
      "execution_count": 15,
      "outputs": []
    },
    {
      "cell_type": "code",
      "metadata": {
        "id": "qiVZMJUougKS",
        "colab_type": "code",
        "colab": {}
      },
      "source": [
        "l_cla = LogisticRegression()\n",
        "k_cla = KNeighborsClassifier()\n",
        "d_cla = DecisionTreeClassifier()\n",
        "r_cla = RandomForestClassifier()\n",
        "s_cla = SVC(kernel='linear')\n",
        "ks_cla = SVC(kernel= 'rbf')"
      ],
      "execution_count": 17,
      "outputs": []
    },
    {
      "cell_type": "code",
      "metadata": {
        "id": "jt3fJO7GunpY",
        "colab_type": "code",
        "colab": {
          "base_uri": "https://localhost:8080/",
          "height": 218
        },
        "outputId": "598588b6-f666-46d5-a797-f7911ddbd3fe"
      },
      "source": [
        "l_cla.fit(X_train, y_train)\n",
        "k_cla.fit(X_train, y_train)\n",
        "d_cla.fit(X_train, y_train)\n",
        "r_cla.fit(X_train, y_train)\n",
        "s_cla.fit(X_train, y_train)\n",
        "ks_cla.fit(X_train, y_train)"
      ],
      "execution_count": 18,
      "outputs": [
        {
          "output_type": "stream",
          "text": [
            "/usr/local/lib/python3.6/dist-packages/sklearn/linear_model/_logistic.py:940: ConvergenceWarning: lbfgs failed to converge (status=1):\n",
            "STOP: TOTAL NO. of ITERATIONS REACHED LIMIT.\n",
            "\n",
            "Increase the number of iterations (max_iter) or scale the data as shown in:\n",
            "    https://scikit-learn.org/stable/modules/preprocessing.html\n",
            "Please also refer to the documentation for alternative solver options:\n",
            "    https://scikit-learn.org/stable/modules/linear_model.html#logistic-regression\n",
            "  extra_warning_msg=_LOGISTIC_SOLVER_CONVERGENCE_MSG)\n"
          ],
          "name": "stderr"
        },
        {
          "output_type": "execute_result",
          "data": {
            "text/plain": [
              "SVC(C=1.0, break_ties=False, cache_size=200, class_weight=None, coef0=0.0,\n",
              "    decision_function_shape='ovr', degree=3, gamma='scale', kernel='rbf',\n",
              "    max_iter=-1, probability=False, random_state=None, shrinking=True,\n",
              "    tol=0.001, verbose=False)"
            ]
          },
          "metadata": {
            "tags": []
          },
          "execution_count": 18
        }
      ]
    },
    {
      "cell_type": "code",
      "metadata": {
        "id": "Cku46H5sutcD",
        "colab_type": "code",
        "colab": {}
      },
      "source": [
        "l_pred = l_cla.predict(X_test)\n",
        "k_pred = k_cla.predict(X_test)\n",
        "d_pred = d_cla.predict(X_test)\n",
        "r_pred = r_cla.predict(X_test)\n",
        "s_pred = s_cla.predict(X_test)\n",
        "ks_pred = ks_cla.predict(X_test)"
      ],
      "execution_count": 19,
      "outputs": []
    },
    {
      "cell_type": "code",
      "metadata": {
        "id": "UlCyEnSyux1C",
        "colab_type": "code",
        "colab": {}
      },
      "source": [
        "from sklearn.metrics import confusion_matrix"
      ],
      "execution_count": 20,
      "outputs": []
    },
    {
      "cell_type": "code",
      "metadata": {
        "id": "7fmarUpWu2vv",
        "colab_type": "code",
        "colab": {}
      },
      "source": [
        "l_c = confusion_matrix(y_test, l_pred)\n",
        "k_c = confusion_matrix(y_test, k_pred)\n",
        "d_c = confusion_matrix(y_test, d_pred)\n",
        "r_c = confusion_matrix(y_test, r_pred)\n",
        "s_c = confusion_matrix(y_test, s_pred)\n",
        "ks_c = confusion_matrix(y_test, ks_pred)"
      ],
      "execution_count": 21,
      "outputs": []
    },
    {
      "cell_type": "code",
      "metadata": {
        "id": "rk7110o2u7b2",
        "colab_type": "code",
        "colab": {
          "base_uri": "https://localhost:8080/",
          "height": 118
        },
        "outputId": "955b9366-44a5-4de0-dea4-ff7cd676d2e1"
      },
      "source": [
        "l_c"
      ],
      "execution_count": 22,
      "outputs": [
        {
          "output_type": "execute_result",
          "data": {
            "text/plain": [
              "array([[ 0,  0,  1,  1,  0,  0],\n",
              "       [ 0,  0,  7,  4,  0,  0],\n",
              "       [ 0,  0, 99, 42,  2,  0],\n",
              "       [ 0,  0, 39, 78,  5,  0],\n",
              "       [ 0,  0,  3, 22, 11,  0],\n",
              "       [ 0,  0,  0,  2,  4,  0]])"
            ]
          },
          "metadata": {
            "tags": []
          },
          "execution_count": 22
        }
      ]
    },
    {
      "cell_type": "code",
      "metadata": {
        "id": "XPOF_pfhu_uE",
        "colab_type": "code",
        "colab": {
          "base_uri": "https://localhost:8080/",
          "height": 118
        },
        "outputId": "019ebd20-7434-46ef-b418-df3c804db27e"
      },
      "source": [
        "k_c"
      ],
      "execution_count": 23,
      "outputs": [
        {
          "output_type": "execute_result",
          "data": {
            "text/plain": [
              "array([[ 0,  0,  1,  1,  0,  0],\n",
              "       [ 0,  0,  7,  4,  0,  0],\n",
              "       [ 0,  2, 95, 44,  2,  0],\n",
              "       [ 0,  1, 37, 72, 12,  0],\n",
              "       [ 0,  0,  7, 19, 10,  0],\n",
              "       [ 0,  0,  0,  1,  5,  0]])"
            ]
          },
          "metadata": {
            "tags": []
          },
          "execution_count": 23
        }
      ]
    },
    {
      "cell_type": "code",
      "metadata": {
        "id": "Lx6fHHQKvN89",
        "colab_type": "code",
        "colab": {
          "base_uri": "https://localhost:8080/",
          "height": 118
        },
        "outputId": "f4c23710-d007-4725-9467-b36dfd3f58c9"
      },
      "source": [
        "d_c"
      ],
      "execution_count": 24,
      "outputs": [
        {
          "output_type": "execute_result",
          "data": {
            "text/plain": [
              "array([[  0,   0,   2,   0,   0,   0],\n",
              "       [  0,   0,   6,   5,   0,   0],\n",
              "       [  0,   1, 111,  26,   5,   0],\n",
              "       [  0,   2,  29,  76,  15,   0],\n",
              "       [  0,   0,   3,  11,  22,   0],\n",
              "       [  0,   0,   1,   2,   3,   0]])"
            ]
          },
          "metadata": {
            "tags": []
          },
          "execution_count": 24
        }
      ]
    },
    {
      "cell_type": "code",
      "metadata": {
        "id": "FCKzWL7lvTgD",
        "colab_type": "code",
        "colab": {
          "base_uri": "https://localhost:8080/",
          "height": 118
        },
        "outputId": "dfd40e86-c106-405a-b216-3993d647d0c4"
      },
      "source": [
        "r_c"
      ],
      "execution_count": 25,
      "outputs": [
        {
          "output_type": "execute_result",
          "data": {
            "text/plain": [
              "array([[  0,   1,   1,   0,   0,   0],\n",
              "       [  0,   0,   8,   3,   0,   0],\n",
              "       [  0,   0, 112,  30,   1,   0],\n",
              "       [  0,   2,  25,  88,   7,   0],\n",
              "       [  0,   0,   2,  17,  17,   0],\n",
              "       [  0,   0,   0,   4,   2,   0]])"
            ]
          },
          "metadata": {
            "tags": []
          },
          "execution_count": 25
        }
      ]
    },
    {
      "cell_type": "code",
      "metadata": {
        "id": "M1JMcpKbvb_h",
        "colab_type": "code",
        "colab": {
          "base_uri": "https://localhost:8080/",
          "height": 118
        },
        "outputId": "0154f6e3-92b5-40f1-fd98-c7f83c0534c1"
      },
      "source": [
        "s_c"
      ],
      "execution_count": 26,
      "outputs": [
        {
          "output_type": "execute_result",
          "data": {
            "text/plain": [
              "array([[  0,   0,   1,   1,   0,   0],\n",
              "       [  0,   0,   8,   3,   0,   0],\n",
              "       [  0,   0, 102,  41,   0,   0],\n",
              "       [  0,   0,  42,  80,   0,   0],\n",
              "       [  0,   0,   3,  33,   0,   0],\n",
              "       [  0,   0,   0,   6,   0,   0]])"
            ]
          },
          "metadata": {
            "tags": []
          },
          "execution_count": 26
        }
      ]
    },
    {
      "cell_type": "code",
      "metadata": {
        "id": "4FNBcb5DvjIS",
        "colab_type": "code",
        "colab": {
          "base_uri": "https://localhost:8080/",
          "height": 118
        },
        "outputId": "765862ea-7fe4-4c51-c27e-6ca9e5853a27"
      },
      "source": [
        "ks_c"
      ],
      "execution_count": 27,
      "outputs": [
        {
          "output_type": "execute_result",
          "data": {
            "text/plain": [
              "array([[  0,   0,   1,   1,   0,   0],\n",
              "       [  0,   0,   8,   3,   0,   0],\n",
              "       [  0,   0, 104,  38,   1,   0],\n",
              "       [  0,   0,  36,  84,   2,   0],\n",
              "       [  0,   0,   3,  26,   7,   0],\n",
              "       [  0,   0,   0,   3,   3,   0]])"
            ]
          },
          "metadata": {
            "tags": []
          },
          "execution_count": 27
        }
      ]
    },
    {
      "cell_type": "code",
      "metadata": {
        "id": "VCAXNBTqvpIL",
        "colab_type": "code",
        "colab": {}
      },
      "source": [
        "from sklearn.metrics import accuracy_score"
      ],
      "execution_count": 28,
      "outputs": []
    },
    {
      "cell_type": "code",
      "metadata": {
        "id": "XizpSU-IvtDL",
        "colab_type": "code",
        "colab": {}
      },
      "source": [
        "l_a = accuracy_score(y_test, l_pred)\n",
        "k_a = accuracy_score(y_test, k_pred)\n",
        "d_a = accuracy_score(y_test, d_pred)\n",
        "r_a = accuracy_score(y_test, r_pred)\n",
        "s_a = accuracy_score(y_test, s_pred)\n",
        "ks_a = accuracy_score(y_test, ks_pred)"
      ],
      "execution_count": 29,
      "outputs": []
    },
    {
      "cell_type": "code",
      "metadata": {
        "id": "QDu8qjmwvxSM",
        "colab_type": "code",
        "colab": {
          "base_uri": "https://localhost:8080/",
          "height": 118
        },
        "outputId": "b62355de-f9d6-4ba0-e268-39294ab69ee9"
      },
      "source": [
        "print('Logistic Regression: ' + str(l_a) + '\\nKNN: ' + str(k_a) + '\\nDecision Tree: ' + str(d_a) + '\\nRandom Forest: ' + str(r_a) + '\\nLinear SVC: ' + str(s_a) + '\\nKernel SVC: ' + str(l_a))"
      ],
      "execution_count": 30,
      "outputs": [
        {
          "output_type": "stream",
          "text": [
            "Logistic Regression: 0.5875\n",
            "KNN: 0.553125\n",
            "Decision Tree: 0.653125\n",
            "Random Forest: 0.678125\n",
            "Linear SVC: 0.56875\n",
            "Kernel SVC: 0.5875\n"
          ],
          "name": "stdout"
        }
      ]
    }
  ]
}